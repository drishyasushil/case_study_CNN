{
 "cells": [
  {
   "cell_type": "code",
   "execution_count": 35,
   "id": "09b35346-2098-472a-a068-912be6f80912",
   "metadata": {},
   "outputs": [],
   "source": [
    "import numpy as np\n",
    "\n",
    "data=np.load('data1.npy')\n",
    "target=np.load('target1.npy')\n",
    "validation_data=np.load('validation_data.npy')\n",
    "validation_target=np.load('validation_target.npy')\n",
    "test_data=np.load('test_data.npy')\n",
    "test_target=np.load('test_target.npy')\n",
    "\n",
    "#loading the save numpy arrays in the previous code"
   ]
  },
  {
   "cell_type": "code",
   "execution_count": 19,
   "id": "e068cea8-07ae-4dbf-b4bd-08e7720c5c11",
   "metadata": {},
   "outputs": [
    {
     "name": "stdout",
     "output_type": "stream",
     "text": [
      "Epoch 1/100\n",
      "469/469 [==============================] - ETA: 0s - loss: 2.3749 - accuracy: 0.3531INFO:tensorflow:Assets written to: model-001.model\\assets\n"
     ]
    },
    {
     "name": "stderr",
     "output_type": "stream",
     "text": [
      "INFO:tensorflow:Assets written to: model-001.model\\assets\n"
     ]
    },
    {
     "name": "stdout",
     "output_type": "stream",
     "text": [
      "469/469 [==============================] - 339s 720ms/step - loss: 2.3749 - accuracy: 0.3531 - val_loss: 20.1077 - val_accuracy: 0.0667\n",
      "Epoch 2/100\n",
      "469/469 [==============================] - ETA: 0s - loss: 1.7753 - accuracy: 0.6154INFO:tensorflow:Assets written to: model-002.model\\assets\n"
     ]
    },
    {
     "name": "stderr",
     "output_type": "stream",
     "text": [
      "INFO:tensorflow:Assets written to: model-002.model\\assets\n"
     ]
    },
    {
     "name": "stdout",
     "output_type": "stream",
     "text": [
      "469/469 [==============================] - 337s 717ms/step - loss: 1.7753 - accuracy: 0.6154 - val_loss: 15.3086 - val_accuracy: 0.0667\n",
      "Epoch 3/100\n",
      "469/469 [==============================] - 329s 701ms/step - loss: 1.4956 - accuracy: 0.7171 - val_loss: 18.8714 - val_accuracy: 0.0667\n",
      "Epoch 4/100\n",
      "469/469 [==============================] - 325s 692ms/step - loss: 1.3732 - accuracy: 0.7705 - val_loss: 16.9486 - val_accuracy: 0.0667\n",
      "Epoch 5/100\n",
      "469/469 [==============================] - ETA: 0s - loss: 1.3070 - accuracy: 0.7935INFO:tensorflow:Assets written to: model-005.model\\assets\n"
     ]
    },
    {
     "name": "stderr",
     "output_type": "stream",
     "text": [
      "INFO:tensorflow:Assets written to: model-005.model\\assets\n"
     ]
    },
    {
     "name": "stdout",
     "output_type": "stream",
     "text": [
      "469/469 [==============================] - 325s 693ms/step - loss: 1.3070 - accuracy: 0.7935 - val_loss: 13.7722 - val_accuracy: 0.0667\n",
      "Epoch 6/100\n",
      "469/469 [==============================] - 325s 694ms/step - loss: 1.2607 - accuracy: 0.8117 - val_loss: 18.3007 - val_accuracy: 0.0667\n",
      "Epoch 7/100\n",
      "469/469 [==============================] - 314s 670ms/step - loss: 1.2140 - accuracy: 0.8299 - val_loss: 20.6620 - val_accuracy: 0.0667\n",
      "Epoch 8/100\n",
      "469/469 [==============================] - 319s 680ms/step - loss: 1.1680 - accuracy: 0.8399 - val_loss: 19.6505 - val_accuracy: 0.0667\n",
      "Epoch 9/100\n",
      "469/469 [==============================] - 316s 674ms/step - loss: 1.1477 - accuracy: 0.8465 - val_loss: 21.0558 - val_accuracy: 0.0667\n",
      "Epoch 10/100\n",
      "469/469 [==============================] - 315s 671ms/step - loss: 1.1024 - accuracy: 0.8589 - val_loss: 21.0728 - val_accuracy: 0.0667\n",
      "Epoch 11/100\n",
      "469/469 [==============================] - 315s 671ms/step - loss: 1.1137 - accuracy: 0.8596 - val_loss: 18.5878 - val_accuracy: 0.0667\n",
      "Epoch 12/100\n",
      "469/469 [==============================] - 315s 671ms/step - loss: 1.1106 - accuracy: 0.8612 - val_loss: 24.9502 - val_accuracy: 0.0667\n",
      "Epoch 13/100\n",
      "469/469 [==============================] - 314s 670ms/step - loss: 1.0638 - accuracy: 0.8703 - val_loss: 24.9231 - val_accuracy: 0.0667\n",
      "Epoch 14/100\n",
      "469/469 [==============================] - 317s 676ms/step - loss: 1.0727 - accuracy: 0.8709 - val_loss: 16.3039 - val_accuracy: 0.0667\n",
      "Epoch 15/100\n",
      "469/469 [==============================] - 314s 669ms/step - loss: 1.0596 - accuracy: 0.8771 - val_loss: 21.8126 - val_accuracy: 0.0667\n"
     ]
    }
   ],
   "source": [
    "from keras.models import Sequential\n",
    "from keras.layers import Dense, Activation, Flatten, Dropout\n",
    "from keras.layers import Conv2D, MaxPooling2D\n",
    "from keras.callbacks import ModelCheckpoint, EarlyStopping\n",
    "from keras.regularizers import l2\n",
    "\n",
    "model = Sequential()\n",
    "\n",
    "model.add(Conv2D(64, (3, 3), input_shape=data.shape[1:], activation='relu'))\n",
    "model.add(MaxPooling2D(pool_size=(2, 2)))\n",
    "\n",
    "model.add(Conv2D(128, (3, 3), activation='relu'))\n",
    "model.add(MaxPooling2D(pool_size=(2, 2)))\n",
    "\n",
    "model.add(Conv2D(256, (3, 3), activation='relu'))\n",
    "model.add(MaxPooling2D(pool_size=(2, 2)))\n",
    "\n",
    "model.add(Flatten())\n",
    "model.add(Dropout(0.5))\n",
    "model.add(Dense(128, activation='relu', kernel_regularizer=l2(0.01)))\n",
    "model.add(Dense(15, activation='softmax'))\n",
    "\n",
    "model.compile(loss='categorical_crossentropy', optimizer='adam', metrics=['accuracy'])\n",
    "\n",
    "# Define callbacks\n",
    "checkpoint = ModelCheckpoint('model-{epoch:03d}.model', monitor='val_loss', verbose=0, save_best_only=True, mode='auto')\n",
    "early_stopping = EarlyStopping(monitor='val_loss', patience=10, restore_best_weights=True)\n",
    "\n",
    "# Train the model with callbacks\n",
    "history = model.fit(data, target, epochs=100, validation_data=(validation_data, validation_target), callbacks=[checkpoint, early_stopping])\n",
    "\n"
   ]
  },
  {
   "cell_type": "code",
   "execution_count": 36,
   "id": "1f06ae92-56c2-48fc-af24-3798013673c2",
   "metadata": {},
   "outputs": [
    {
     "name": "stdout",
     "output_type": "stream",
     "text": [
      "94/94 [==============================] - 18s 179ms/step - loss: 1.1738 - accuracy: 0.8430\n",
      "[1.1737843751907349, 0.8429999947547913]\n"
     ]
    }
   ],
   "source": [
    "print(model.evaluate(test_data,test_target))"
   ]
  },
  {
   "cell_type": "code",
   "execution_count": null,
   "id": "512a414c-af33-450e-8f9d-62d36af79a9d",
   "metadata": {},
   "outputs": [],
   "source": []
  }
 ],
 "metadata": {
  "kernelspec": {
   "display_name": "Python 3 (ipykernel)",
   "language": "python",
   "name": "python3"
  },
  "language_info": {
   "codemirror_mode": {
    "name": "ipython",
    "version": 3
   },
   "file_extension": ".py",
   "mimetype": "text/x-python",
   "name": "python",
   "nbconvert_exporter": "python",
   "pygments_lexer": "ipython3",
   "version": "3.8.10"
  }
 },
 "nbformat": 4,
 "nbformat_minor": 5
}
